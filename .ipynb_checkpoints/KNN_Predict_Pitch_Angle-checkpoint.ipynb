{
 "cells": [
  {
   "cell_type": "code",
   "execution_count": 1,
   "metadata": {},
   "outputs": [],
   "source": [
    "from sklearn.cluster import KMeans\n",
    "from collections import Counter\n",
    "import pandas as pd\n",
    "import matplotlib.pyplot as plt\n",
    "import numpy as np "
   ]
  },
  {
   "cell_type": "code",
   "execution_count": 2,
   "metadata": {},
   "outputs": [
    {
     "data": {
      "text/html": [
       "<div>\n",
       "<style scoped>\n",
       "    .dataframe tbody tr th:only-of-type {\n",
       "        vertical-align: middle;\n",
       "    }\n",
       "\n",
       "    .dataframe tbody tr th {\n",
       "        vertical-align: top;\n",
       "    }\n",
       "\n",
       "    .dataframe thead th {\n",
       "        text-align: right;\n",
       "    }\n",
       "</style>\n",
       "<table border=\"1\" class=\"dataframe\">\n",
       "  <thead>\n",
       "    <tr style=\"text-align: right;\">\n",
       "      <th></th>\n",
       "      <th>Wind_turbine_name</th>\n",
       "      <th>Date_time</th>\n",
       "      <th>Ba</th>\n",
       "      <th>Rt</th>\n",
       "      <th>DCs</th>\n",
       "      <th>Cm</th>\n",
       "      <th>P</th>\n",
       "      <th>Q</th>\n",
       "      <th>S</th>\n",
       "      <th>Cosphi</th>\n",
       "      <th>...</th>\n",
       "      <th>Ws2</th>\n",
       "      <th>Ws</th>\n",
       "      <th>Wa</th>\n",
       "      <th>Va</th>\n",
       "      <th>Ot</th>\n",
       "      <th>Nf</th>\n",
       "      <th>Nu</th>\n",
       "      <th>Rs</th>\n",
       "      <th>Rbt</th>\n",
       "      <th>Rm</th>\n",
       "    </tr>\n",
       "  </thead>\n",
       "  <tbody>\n",
       "    <tr>\n",
       "      <th>0</th>\n",
       "      <td>R80721</td>\n",
       "      <td>2017/2/8 12:40</td>\n",
       "      <td>44.990002</td>\n",
       "      <td>14.860000</td>\n",
       "      <td>88.279999</td>\n",
       "      <td>3.10</td>\n",
       "      <td>-3.080000</td>\n",
       "      <td>0.010000</td>\n",
       "      <td>3.090000</td>\n",
       "      <td>1.00</td>\n",
       "      <td>...</td>\n",
       "      <td>1.95</td>\n",
       "      <td>1.90</td>\n",
       "      <td>343.280000</td>\n",
       "      <td>25.180000</td>\n",
       "      <td>5.30</td>\n",
       "      <td>49.980000</td>\n",
       "      <td>703.00000</td>\n",
       "      <td>0.84</td>\n",
       "      <td>21.040001</td>\n",
       "      <td>-336.720000</td>\n",
       "    </tr>\n",
       "    <tr>\n",
       "      <th>1</th>\n",
       "      <td>R80721</td>\n",
       "      <td>2017/2/8 14:40</td>\n",
       "      <td>44.990002</td>\n",
       "      <td>14.000000</td>\n",
       "      <td>23.320000</td>\n",
       "      <td>2.40</td>\n",
       "      <td>-1.810000</td>\n",
       "      <td>0.000000</td>\n",
       "      <td>1.810000</td>\n",
       "      <td>1.00</td>\n",
       "      <td>...</td>\n",
       "      <td>0.24</td>\n",
       "      <td>0.20</td>\n",
       "      <td>2.430000</td>\n",
       "      <td>44.310001</td>\n",
       "      <td>4.89</td>\n",
       "      <td>49.990002</td>\n",
       "      <td>704.63000</td>\n",
       "      <td>0.14</td>\n",
       "      <td>19.230000</td>\n",
       "      <td>0.000000</td>\n",
       "    </tr>\n",
       "    <tr>\n",
       "      <th>2</th>\n",
       "      <td>R80721</td>\n",
       "      <td>2017/2/8 15:00</td>\n",
       "      <td>44.990002</td>\n",
       "      <td>14.000000</td>\n",
       "      <td>38.369999</td>\n",
       "      <td>2.39</td>\n",
       "      <td>-1.890000</td>\n",
       "      <td>0.000000</td>\n",
       "      <td>1.890000</td>\n",
       "      <td>1.00</td>\n",
       "      <td>...</td>\n",
       "      <td>0.22</td>\n",
       "      <td>0.18</td>\n",
       "      <td>358.049990</td>\n",
       "      <td>39.939999</td>\n",
       "      <td>4.80</td>\n",
       "      <td>50.000000</td>\n",
       "      <td>698.40002</td>\n",
       "      <td>0.33</td>\n",
       "      <td>19.020000</td>\n",
       "      <td>-18.889999</td>\n",
       "    </tr>\n",
       "    <tr>\n",
       "      <th>3</th>\n",
       "      <td>R80721</td>\n",
       "      <td>2017/1/26 05:30</td>\n",
       "      <td>-1.000000</td>\n",
       "      <td>10.340000</td>\n",
       "      <td>1208.040000</td>\n",
       "      <td>1802.37</td>\n",
       "      <td>199.350010</td>\n",
       "      <td>16.389999</td>\n",
       "      <td>200.050000</td>\n",
       "      <td>1.00</td>\n",
       "      <td>...</td>\n",
       "      <td>5.42</td>\n",
       "      <td>4.91</td>\n",
       "      <td>61.540001</td>\n",
       "      <td>-1.900000</td>\n",
       "      <td>-6.42</td>\n",
       "      <td>50.009998</td>\n",
       "      <td>698.78003</td>\n",
       "      <td>11.52</td>\n",
       "      <td>23.000000</td>\n",
       "      <td>1571.050000</td>\n",
       "    </tr>\n",
       "    <tr>\n",
       "      <th>4</th>\n",
       "      <td>R80721</td>\n",
       "      <td>2017/1/26 07:40</td>\n",
       "      <td>-1.000000</td>\n",
       "      <td>9.979999</td>\n",
       "      <td>1005.250000</td>\n",
       "      <td>1171.28</td>\n",
       "      <td>92.589996</td>\n",
       "      <td>14.220000</td>\n",
       "      <td>93.709999</td>\n",
       "      <td>0.99</td>\n",
       "      <td>...</td>\n",
       "      <td>4.67</td>\n",
       "      <td>4.20</td>\n",
       "      <td>72.010002</td>\n",
       "      <td>8.530000</td>\n",
       "      <td>-7.30</td>\n",
       "      <td>50.000000</td>\n",
       "      <td>695.23999</td>\n",
       "      <td>9.58</td>\n",
       "      <td>21.459999</td>\n",
       "      <td>877.039980</td>\n",
       "    </tr>\n",
       "  </tbody>\n",
       "</table>\n",
       "<p>5 rows × 31 columns</p>\n",
       "</div>"
      ],
      "text/plain": [
       "  Wind_turbine_name        Date_time         Ba         Rt          DCs  \\\n",
       "0            R80721   2017/2/8 12:40  44.990002  14.860000    88.279999   \n",
       "1            R80721   2017/2/8 14:40  44.990002  14.000000    23.320000   \n",
       "2            R80721   2017/2/8 15:00  44.990002  14.000000    38.369999   \n",
       "3            R80721  2017/1/26 05:30  -1.000000  10.340000  1208.040000   \n",
       "4            R80721  2017/1/26 07:40  -1.000000   9.979999  1005.250000   \n",
       "\n",
       "        Cm           P          Q           S  Cosphi  ...   Ws2    Ws  \\\n",
       "0     3.10   -3.080000   0.010000    3.090000    1.00  ...  1.95  1.90   \n",
       "1     2.40   -1.810000   0.000000    1.810000    1.00  ...  0.24  0.20   \n",
       "2     2.39   -1.890000   0.000000    1.890000    1.00  ...  0.22  0.18   \n",
       "3  1802.37  199.350010  16.389999  200.050000    1.00  ...  5.42  4.91   \n",
       "4  1171.28   92.589996  14.220000   93.709999    0.99  ...  4.67  4.20   \n",
       "\n",
       "           Wa         Va    Ot         Nf         Nu     Rs        Rbt  \\\n",
       "0  343.280000  25.180000  5.30  49.980000  703.00000   0.84  21.040001   \n",
       "1    2.430000  44.310001  4.89  49.990002  704.63000   0.14  19.230000   \n",
       "2  358.049990  39.939999  4.80  50.000000  698.40002   0.33  19.020000   \n",
       "3   61.540001  -1.900000 -6.42  50.009998  698.78003  11.52  23.000000   \n",
       "4   72.010002   8.530000 -7.30  50.000000  695.23999   9.58  21.459999   \n",
       "\n",
       "            Rm  \n",
       "0  -336.720000  \n",
       "1     0.000000  \n",
       "2   -18.889999  \n",
       "3  1571.050000  \n",
       "4   877.039980  \n",
       "\n",
       "[5 rows x 31 columns]"
      ]
     },
     "execution_count": 2,
     "metadata": {},
     "output_type": "execute_result"
    }
   ],
   "source": [
    "#Load Data\n",
    "df_2017_2020 = pd.read_csv(\".//wind_power_data_2017_2020.csv\")\n",
    "df_2017_2020.head()"
   ]
  },
  {
   "cell_type": "code",
   "execution_count": 13,
   "metadata": {},
   "outputs": [
    {
     "name": "stderr",
     "output_type": "stream",
     "text": [
      "C:\\Program Files (x86)\\Microsoft Visual Studio\\Shared\\Anaconda3_64\\lib\\site-packages\\ipykernel_launcher.py:4: SettingWithCopyWarning: \n",
      "A value is trying to be set on a copy of a slice from a DataFrame\n",
      "\n",
      "See the caveats in the documentation: http://pandas.pydata.org/pandas-docs/stable/user_guide/indexing.html#returning-a-view-versus-a-copy\n",
      "  after removing the cwd from sys.path.\n"
     ]
    },
    {
     "data": {
      "text/plain": [
       "<bound method NDFrame.head of        Wind_turbine_name         Ba           P    Ws\n",
       "0                 R80721  44.990002   -3.080000  1.90\n",
       "1                 R80721  44.990002   -1.810000  0.20\n",
       "2                 R80721  44.990002   -1.890000  0.18\n",
       "3                 R80721  -1.000000  199.350010  4.91\n",
       "4                 R80721  -1.000000   92.589996  4.20\n",
       "...                  ...        ...         ...   ...\n",
       "217583            R80790  -1.000000  143.350000  4.72\n",
       "217584            R80790  -0.810000   58.100000  4.05\n",
       "217585            R80790  -1.000000   72.130000  4.36\n",
       "217586            R80790  -1.000000   78.060000  4.60\n",
       "217587            R80790  -1.000000  109.640000  4.72\n",
       "\n",
       "[108100 rows x 4 columns]>"
      ]
     },
     "execution_count": 13,
     "metadata": {},
     "output_type": "execute_result"
    }
   ],
   "source": [
    "#Filter Data\n",
    "df_2017_2020 = df_2017_2020[[\"Wind_turbine_name\", \"Ba\", \"P\", \"Ws\"]]\n",
    "R80721_R80790_df = df_2017_2020[df_2017_2020.Wind_turbine_name.apply(lambda x: x in ('R80721', 'R80790'))]\n",
    "R80721_R80790_df.dropna(inplace=True)\n",
    "R80721_R80790_df.head"
   ]
  },
  {
   "cell_type": "code",
   "execution_count": 4,
   "metadata": {},
   "outputs": [
    {
     "name": "stderr",
     "output_type": "stream",
     "text": [
      "C:\\Program Files (x86)\\Microsoft Visual Studio\\Shared\\Anaconda3_64\\lib\\site-packages\\ipykernel_launcher.py:6: SettingWithCopyWarning: \n",
      "A value is trying to be set on a copy of a slice from a DataFrame.\n",
      "Try using .loc[row_indexer,col_indexer] = value instead\n",
      "\n",
      "See the caveats in the documentation: http://pandas.pydata.org/pandas-docs/stable/user_guide/indexing.html#returning-a-view-versus-a-copy\n",
      "  \n"
     ]
    },
    {
     "data": {
      "image/png": "[encoded data removed]",
      "text/plain": [
       "<Figure size 432x288 with 1 Axes>"
      ]
     },
     "metadata": {},
     "output_type": "display_data"
    }
   ],
   "source": [
    "#Create Model\n",
    "CLUSTER_NUMBER = 100\n",
    "kmeans = KMeans(CLUSTER_NUMBER)\n",
    "\n",
    "kmeans.fit(R80721_R80790_df[[\"Ba\", \"P\"]])\n",
    "R80721_R80790_df['group'] = kmeans.predict(R80721_R80790_df[[\"Ba\", \"P\"]])\n",
    "\n",
    "# scatter cluster\n",
    "plt.scatter(\n",
    "    R80721_R80790_df.Ba, \n",
    "    R80721_R80790_df.P, \n",
    "    c=R80721_R80790_df['group'], \n",
    "    s=0.1)\n",
    "# plot center\n",
    "for center in kmeans.cluster_centers_:\n",
    "    plt.scatter(center[0], center[1], c='red', s=1.5)"
   ]
  },
  {
   "cell_type": "code",
   "execution_count": 24,
   "metadata": {},
   "outputs": [
    {
     "ename": "AttributeError",
     "evalue": "'DataFrame' object has no attribute 'group'",
     "output_type": "error",
     "traceback": [
      "\u001b[1;31m---------------------------------------------------------------------------\u001b[0m",
      "\u001b[1;31mAttributeError\u001b[0m                            Traceback (most recent call last)",
      "\u001b[1;32m<ipython-input-24-9bfe144617cb>\u001b[0m in \u001b[0;36m<module>\u001b[1;34m()\u001b[0m\n\u001b[1;32m----> 1\u001b[1;33m \u001b[0mR80721_R80790_df\u001b[0m\u001b[1;33m.\u001b[0m\u001b[0mgroup\u001b[0m\u001b[1;33m\u001b[0m\u001b[0m\n\u001b[0m",
      "\u001b[1;32m~\\AppData\\Roaming\\Python\\Python36\\site-packages\\pandas\\core\\generic.py\u001b[0m in \u001b[0;36m__getattr__\u001b[1;34m(self, name)\u001b[0m\n\u001b[0;32m   5178\u001b[0m             \u001b[1;32mif\u001b[0m \u001b[0mself\u001b[0m\u001b[1;33m.\u001b[0m\u001b[0m_info_axis\u001b[0m\u001b[1;33m.\u001b[0m\u001b[0m_can_hold_identifiers_and_holds_name\u001b[0m\u001b[1;33m(\u001b[0m\u001b[0mname\u001b[0m\u001b[1;33m)\u001b[0m\u001b[1;33m:\u001b[0m\u001b[1;33m\u001b[0m\u001b[0m\n\u001b[0;32m   5179\u001b[0m                 \u001b[1;32mreturn\u001b[0m \u001b[0mself\u001b[0m\u001b[1;33m[\u001b[0m\u001b[0mname\u001b[0m\u001b[1;33m]\u001b[0m\u001b[1;33m\u001b[0m\u001b[0m\n\u001b[1;32m-> 5180\u001b[1;33m             \u001b[1;32mreturn\u001b[0m \u001b[0mobject\u001b[0m\u001b[1;33m.\u001b[0m\u001b[0m__getattribute__\u001b[0m\u001b[1;33m(\u001b[0m\u001b[0mself\u001b[0m\u001b[1;33m,\u001b[0m \u001b[0mname\u001b[0m\u001b[1;33m)\u001b[0m\u001b[1;33m\u001b[0m\u001b[0m\n\u001b[0m\u001b[0;32m   5181\u001b[0m \u001b[1;33m\u001b[0m\u001b[0m\n\u001b[0;32m   5182\u001b[0m     \u001b[1;32mdef\u001b[0m \u001b[0m__setattr__\u001b[0m\u001b[1;33m(\u001b[0m\u001b[0mself\u001b[0m\u001b[1;33m,\u001b[0m \u001b[0mname\u001b[0m\u001b[1;33m,\u001b[0m \u001b[0mvalue\u001b[0m\u001b[1;33m)\u001b[0m\u001b[1;33m:\u001b[0m\u001b[1;33m\u001b[0m\u001b[0m\n",
      "\u001b[1;31mAttributeError\u001b[0m: 'DataFrame' object has no attribute 'group'"
     ]
    }
   ],
   "source": [
    "R80721_R80790_df.group"
   ]
  },
  {
   "cell_type": "code",
   "execution_count": 5,
   "metadata": {},
   "outputs": [],
   "source": [
    "#define function of Normalize\n",
    "def Normalize(values, method = \"minmax\"):\n",
    "    if method == 'minmax':\n",
    "        min_value = values.min()\n",
    "        max_value = values.max()\n",
    "        func = lambda x: (x - min_value) / (max_value - min_value)\n",
    "    elif method == 'zscore':\n",
    "        mean = values.mean()\n",
    "        std = values.std()\n",
    "        func = lambda x: (x - mean) / std\n",
    "    else:\n",
    "        func = lambda x: x\n",
    "        \n",
    "    return values.apply(func)"
   ]
  },
  {
   "cell_type": "code",
   "execution_count": 6,
   "metadata": {},
   "outputs": [],
   "source": [
    "#def distance\n",
    "def Distance2(x1, y1, x2, y2):\n",
    "    return (x1 - x2)**2 + (y1 - y2)**2"
   ]
  },
  {
   "cell_type": "code",
   "execution_count": 25,
   "metadata": {},
   "outputs": [],
   "source": [
    "#According to power and wind_speed, Suggest wind_turbine angle by knn model \n",
    "def SuggestAngleByKNN(data, power, wind_speed, n_neighbors=5):   \n",
    "    #normaliztion\n",
    "    std_data = data.append({\"P\": power, \"Ws\":wind_speed}, ignore_index=True)\n",
    "    std_data[\"std_power\"] = Normalize(std_data.P)\n",
    "    std_data[\"std_wind_speed\"] = Normalize(std_data.Ws)\n",
    "    std_power = std_data[\"std_power\"].iloc[-1]\n",
    "    std_wind_speed = std_data[\"std_wind_speed\"].iloc[-1]\n",
    "    std_data.drop(index=std_data.tail(1).index, inplace=True)\n",
    "\n",
    "    #Distance\n",
    "    std_data['distance'] = std_data.apply(lambda x: Distance2(x['std_power'], x['std_wind_speed'], \\\n",
    "                                                              std_power, std_wind_speed), axis=1)\n",
    "    # Get number of k colse point\n",
    "    kpoints = std_data.loc[std_data.distance.nsmallest(n_neighbors).index]\n",
    "    print(kpoints)\n",
    "    # 找出出現最多次的組別\n",
    "    group = Counter(kpoints.group).most_common(1)[0][0]\n",
    "    # 指派這些組別中的中位數當作建議角度\n",
    "    std_data = std_data[std_data.group==group]\n",
    "    angle = std_data.Ba.median()"
   ]
  },
  {
   "cell_type": "code",
   "execution_count": 26,
   "metadata": {},
   "outputs": [
    {
     "name": "stdout",
     "output_type": "stream",
     "text": [
      "      Wind_turbine_name    Ba          P    Ws  distance  std_power  \\\n",
      "17289            R80721  0.01  12.240000  1.04  0.000017   0.013640   \n",
      "13033            R80790 -0.01  22.309999  1.10  0.000018   0.018512   \n",
      "2888             R80721  0.07   8.490000  0.98  0.000032   0.011825   \n",
      "45720            R80721  0.28   5.670000  1.01  0.000048   0.010461   \n",
      "34923            R80790  0.27   3.420000  1.02  0.000065   0.009372   \n",
      "\n",
      "       std_wind_speed  \n",
      "17289        0.042851  \n",
      "13033        0.045323  \n",
      "2888         0.040379  \n",
      "45720        0.041615  \n",
      "34923        0.042027  \n"
     ]
    },
    {
     "ename": "AttributeError",
     "evalue": "'DataFrame' object has no attribute 'group'",
     "output_type": "error",
     "traceback": [
      "\u001b[1;31m---------------------------------------------------------------------------\u001b[0m",
      "\u001b[1;31mAttributeError\u001b[0m                            Traceback (most recent call last)",
      "\u001b[1;32m<ipython-input-26-f1101b624024>\u001b[0m in \u001b[0;36m<module>\u001b[1;34m()\u001b[0m\n\u001b[1;32m----> 1\u001b[1;33m \u001b[0mSuggestAngleByKNN\u001b[0m\u001b[1;33m(\u001b[0m\u001b[0mR80721_R80790_df\u001b[0m\u001b[1;33m,\u001b[0m \u001b[1;36m20\u001b[0m\u001b[1;33m,\u001b[0m \u001b[1;36m1\u001b[0m\u001b[1;33m)\u001b[0m\u001b[1;33m\u001b[0m\u001b[0m\n\u001b[0m",
      "\u001b[1;32m<ipython-input-25-0797d7b25933>\u001b[0m in \u001b[0;36mSuggestAngleByKNN\u001b[1;34m(data, power, wind_speed, n_neighbors)\u001b[0m\n\u001b[0;32m     15\u001b[0m     \u001b[0mprint\u001b[0m\u001b[1;33m(\u001b[0m\u001b[0mkpoints\u001b[0m\u001b[1;33m)\u001b[0m\u001b[1;33m\u001b[0m\u001b[0m\n\u001b[0;32m     16\u001b[0m     \u001b[1;31m# 找出出現最多次的組別\u001b[0m\u001b[1;33m\u001b[0m\u001b[1;33m\u001b[0m\u001b[0m\n\u001b[1;32m---> 17\u001b[1;33m     \u001b[0mgroup\u001b[0m \u001b[1;33m=\u001b[0m \u001b[0mCounter\u001b[0m\u001b[1;33m(\u001b[0m\u001b[0mkpoints\u001b[0m\u001b[1;33m.\u001b[0m\u001b[0mgroup\u001b[0m\u001b[1;33m)\u001b[0m\u001b[1;33m.\u001b[0m\u001b[0mmost_common\u001b[0m\u001b[1;33m(\u001b[0m\u001b[1;36m1\u001b[0m\u001b[1;33m)\u001b[0m\u001b[1;33m[\u001b[0m\u001b[1;36m0\u001b[0m\u001b[1;33m]\u001b[0m\u001b[1;33m[\u001b[0m\u001b[1;36m0\u001b[0m\u001b[1;33m]\u001b[0m\u001b[1;33m\u001b[0m\u001b[0m\n\u001b[0m\u001b[0;32m     18\u001b[0m     \u001b[1;31m# 指派這些組別中的中位數當作建議角度\u001b[0m\u001b[1;33m\u001b[0m\u001b[1;33m\u001b[0m\u001b[0m\n\u001b[0;32m     19\u001b[0m     \u001b[0mdata\u001b[0m \u001b[1;33m=\u001b[0m \u001b[0mstd_data\u001b[0m\u001b[1;33m[\u001b[0m\u001b[0mstd_data\u001b[0m\u001b[1;33m.\u001b[0m\u001b[0mgroup\u001b[0m\u001b[1;33m==\u001b[0m\u001b[0mgroup\u001b[0m\u001b[1;33m]\u001b[0m\u001b[1;33m\u001b[0m\u001b[0m\n",
      "\u001b[1;32m~\\AppData\\Roaming\\Python\\Python36\\site-packages\\pandas\\core\\generic.py\u001b[0m in \u001b[0;36m__getattr__\u001b[1;34m(self, name)\u001b[0m\n\u001b[0;32m   5178\u001b[0m             \u001b[1;32mif\u001b[0m \u001b[0mself\u001b[0m\u001b[1;33m.\u001b[0m\u001b[0m_info_axis\u001b[0m\u001b[1;33m.\u001b[0m\u001b[0m_can_hold_identifiers_and_holds_name\u001b[0m\u001b[1;33m(\u001b[0m\u001b[0mname\u001b[0m\u001b[1;33m)\u001b[0m\u001b[1;33m:\u001b[0m\u001b[1;33m\u001b[0m\u001b[0m\n\u001b[0;32m   5179\u001b[0m                 \u001b[1;32mreturn\u001b[0m \u001b[0mself\u001b[0m\u001b[1;33m[\u001b[0m\u001b[0mname\u001b[0m\u001b[1;33m]\u001b[0m\u001b[1;33m\u001b[0m\u001b[0m\n\u001b[1;32m-> 5180\u001b[1;33m             \u001b[1;32mreturn\u001b[0m \u001b[0mobject\u001b[0m\u001b[1;33m.\u001b[0m\u001b[0m__getattribute__\u001b[0m\u001b[1;33m(\u001b[0m\u001b[0mself\u001b[0m\u001b[1;33m,\u001b[0m \u001b[0mname\u001b[0m\u001b[1;33m)\u001b[0m\u001b[1;33m\u001b[0m\u001b[0m\n\u001b[0m\u001b[0;32m   5181\u001b[0m \u001b[1;33m\u001b[0m\u001b[0m\n\u001b[0;32m   5182\u001b[0m     \u001b[1;32mdef\u001b[0m \u001b[0m__setattr__\u001b[0m\u001b[1;33m(\u001b[0m\u001b[0mself\u001b[0m\u001b[1;33m,\u001b[0m \u001b[0mname\u001b[0m\u001b[1;33m,\u001b[0m \u001b[0mvalue\u001b[0m\u001b[1;33m)\u001b[0m\u001b[1;33m:\u001b[0m\u001b[1;33m\u001b[0m\u001b[0m\n",
      "\u001b[1;31mAttributeError\u001b[0m: 'DataFrame' object has no attribute 'group'"
     ]
    }
   ],
   "source": [
    "SuggestAngleByKNN(R80721_R80790_df, 20, 1)"
   ]
  },
  {
   "cell_type": "code",
   "execution_count": null,
   "metadata": {},
   "outputs": [],
   "source": []
  }
 ],
 "metadata": {
  "kernelspec": {
   "display_name": "Python 3",
   "language": "python",
   "name": "python3"
  },
  "language_info": {
   "codemirror_mode": {
    "name": "ipython",
    "version": 3
   },
   "file_extension": ".py",
   "mimetype": "text/x-python",
   "name": "python",
   "nbconvert_exporter": "python",
   "pygments_lexer": "ipython3",
   "version": "3.6.5"
  }
 },
 "nbformat": 4,
 "nbformat_minor": 2
}
